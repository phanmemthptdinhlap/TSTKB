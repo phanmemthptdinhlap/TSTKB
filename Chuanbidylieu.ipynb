{
 "cells": [
  {
   "cell_type": "code",
   "execution_count": null,
   "id": "5d67fec1",
   "metadata": {},
   "outputs": [],
   "source": [
    "import pandas as pd\n",
    "\n",
    "def ReadSheet(file_path,tuan):\n",
    "    # Đọc dữ liệu từ sheet 'TKBLop_Sang', range C8:U38\n",
    "    df = pd.read_excel(file_path, sheet_name=\"TKBLop2b\", usecols=\"C:U\", skiprows=7, nrows=69)\n",
    "    merged_data = []\n",
    "    for col in df.columns:\n",
    "        # Lọc bỏ giá trị NaN\n",
    "        col_data = df[col].dropna()\n",
    "        # Đếm số lần xuất hiện của từng giá trị\n",
    "        counts = col_data.value_counts()\n",
    "        # Chỉ lấy các giá trị xuất hiện nhiều hơn 1 lần (trùng lặp)\n",
    "        duplicates = counts[counts > 1]\n",
    "        # Gộp tên tiêu đề với dữ liệu và số lượng trùng lặp\n",
    "        for value, count in duplicates.items():\n",
    "            Mon,GV=value.split(\" - \")\n",
    "            merged_data.append([tuan,col,Mon,GV,count])\n",
    "    return pd.DataFrame(merged_data,columns=['Tuần','Lớp','Môn','Giáo_viên','Tiết'])"
   ]
  },
  {
   "cell_type": "code",
   "execution_count": 161,
   "id": "d7123254",
   "metadata": {},
   "outputs": [],
   "source": [
    "import random\n",
    "\n",
    "def Dinhmuc_GV(duplicates_result, ty_le=0.5):\n",
    "    # Lấy danh sách giáo viên duy nhất\n",
    "    danh_sach_gv = duplicates_result['Giáo_viên'].unique()\n",
    "    so_gv = len(danh_sach_gv)\n",
    "    so_gv_chon = int(so_gv * ty_le)\n",
    "    gv_duoc_chon = set(random.sample(list(danh_sach_gv), so_gv_chon))\n",
    "\n",
    "    dinh_muc_list = []\n",
    "    for gv in danh_sach_gv:\n",
    "        if gv in gv_duoc_chon:\n",
    "            # Số tiết sáng là bội của 5, >= 15, <= 20\n",
    "            dms = random.choice([x for x in range(10, 20, 5)])\n",
    "            # Số tiết chiều là bội của 3, >= 3, <= 15\n",
    "            dmc = random.choice([x for x in range(3, 16, 3)])\n",
    "        else:\n",
    "            dms = 20\n",
    "            dmc = 15\n",
    "        dinh_muc_list.append([gv, dms, dmc])\n",
    "    return pd.DataFrame(dinh_muc_list,columns=['Giáo_viên','ĐM_GV_sáng','ĐM_GV_chiều'])\n",
    "def Dinhmuc_Lop(duplicates_result, ty_le=0.1):\n",
    "    # Lấy danh sách giáo viên duy nhất\n",
    "    danh_sach_lop = duplicates_result['Lớp'].unique()\n",
    "    heso=ty_le*100\n",
    "    l10=random.randint(0,100)<heso\n",
    "    dms10=random.choice([x for x in range(15,31,5)]) if l10 else 30\n",
    "    dmc10=random.choice([x for x in range(3,19,3)]) if l10 else 15\n",
    "    l11=random.randint(0,100)<heso\n",
    "    dms11=random.choice([x for x in range(15,31,5)]) if l11 else 30\n",
    "    dmc11=random.choice([x for x in range(3,19,3)]) if l11 else 15\n",
    "    l12=random.randint(0,100)<heso\n",
    "    dms12=random.choice([x for x in range(15,31,5)]) if l12 else 30\n",
    "    dmc12=random.choice([x for x in range(3,19,3)]) if l12 else 15\n",
    "    dinh_muc_list = []\n",
    "    for lop in danh_sach_lop:\n",
    "        if '10' in lop:\n",
    "            dms = dms10\n",
    "            dmc = dmc10\n",
    "        elif '11' in lop:\n",
    "            dms = dms11\n",
    "            dmc = dmc11\n",
    "        elif '12' in lop:\n",
    "            dms=dms12\n",
    "            dmc=dmc12\n",
    "        else:\n",
    "            dms=30\n",
    "            dmc=15\n",
    "        dinh_muc_list.append([lop, dms, dmc])\n",
    "    return pd.DataFrame(dinh_muc_list,columns=['Lớp','ĐM_Lớp_sáng','ĐM_Lớp_chiều'])"
   ]
  },
  {
   "cell_type": "code",
   "execution_count": 162,
   "id": "29509476",
   "metadata": {},
   "outputs": [],
   "source": [
    "def Tonghop(file_path):\n",
    "    df1=ReadSheet(file_path)\n",
    "    df2=Dinhmuc_GV(df1)\n",
    "    df3=Dinhmuc_Lop(df1)\n",
    "    df=pd.merge(df1,df2, on=\"Giáo_viên\",how=\"left\")\n",
    "    df=pd.merge(df,df3, on=\"Lớp\",how=\"left\")\n",
    "    return df"
   ]
  },
  {
   "cell_type": "code",
   "execution_count": 168,
   "id": "d76145dd",
   "metadata": {},
   "outputs": [
    {
     "name": "stdout",
     "output_type": "stream",
     "text": [
      "      Lớp      Môn Giáo_viên  Tiết  ĐM_GV_sáng  ĐM_GV_chiều  ĐM_Lớp_sáng  \\\n",
      "0    10A1     TrNg      Xuân     6          20           15           30   \n",
      "1    10A1     TOAN     Hướng     4          15           15           30   \n",
      "2    10A1       LY        Ấn     4          20           15           30   \n",
      "3    10A1      HOA    L.Hiền     4          20           15           30   \n",
      "4    10A1       NN      Nhàn     4          20           15           30   \n",
      "..    ...      ...       ...   ...         ...          ...          ...   \n",
      "187  12C4   GDKTPL      Hiếu     2          10            6           30   \n",
      "188  12C4      DIA     Tuyết     2          15            6           30   \n",
      "189  12C4       CN     Nhung     2          20           15           30   \n",
      "190  12C4     QPAN     Quang     2          20           15           30   \n",
      "191  12C4  TD/GDTC     Thiềm     2          20           15           30   \n",
      "\n",
      "     ĐM_Lớp_chiều  \n",
      "0              15  \n",
      "1              15  \n",
      "2              15  \n",
      "3              15  \n",
      "4              15  \n",
      "..            ...  \n",
      "187            15  \n",
      "188            15  \n",
      "189            15  \n",
      "190            15  \n",
      "191            15  \n",
      "\n",
      "[192 rows x 8 columns]\n"
     ]
    }
   ],
   "source": [
    "file_path = '/home/lamkien/PyProjects/TSTKB/FileTKB/T8_HK1_V1.xls'\n",
    "df=Tonghop(file_path)\n",
    "print(df)"
   ]
  }
 ],
 "metadata": {
  "kernelspec": {
   "display_name": ".env",
   "language": "python",
   "name": "python3"
  },
  "language_info": {
   "codemirror_mode": {
    "name": "ipython",
    "version": 3
   },
   "file_extension": ".py",
   "mimetype": "text/x-python",
   "name": "python",
   "nbconvert_exporter": "python",
   "pygments_lexer": "ipython3",
   "version": "3.13.3"
  }
 },
 "nbformat": 4,
 "nbformat_minor": 5
}
